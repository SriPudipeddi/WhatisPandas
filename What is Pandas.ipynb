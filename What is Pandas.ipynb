{
 "cells": [
  {
   "cell_type": "markdown",
   "metadata": {
    "collapsed": true
   },
   "source": [
    "Pandas is a popular Python module that provides high performance data \n",
    "structures and data analysis tools. Pandas is widely used to transform \n",
    "raw data for data analysis and machine learning. We will learn: \n",
    "\n",
    "• data frames and data series \n",
    "\n",
    "• reading from files \n",
    "\n",
    "• data transformation \n",
    "\n",
    "• data visualization \n",
    "\n",
    "• statistical analysis\n",
    "\n",
    "Wes McKinney developed on Pandas and open sourced it in 2009. Later Chang She become the primary contributor. "
   ]
  },
  {
   "cell_type": "markdown",
   "metadata": {
    "collapsed": true
   },
   "source": [
    "## Data frames and Data series\n",
    "\n",
    "Series - is a one-dimensional Python object that corresponds to one column \n",
    "in a table."
   ]
  },
  {
   "cell_type": "code",
   "execution_count": 17,
   "metadata": {
    "collapsed": false
   },
   "outputs": [],
   "source": [
    "'''\n",
    "First things first, let's import pandas\n",
    "'''\n",
    "import pandas as pd"
   ]
  },
  {
   "cell_type": "code",
   "execution_count": 18,
   "metadata": {
    "collapsed": false
   },
   "outputs": [
    {
     "name": "stdout",
     "output_type": "stream",
     "text": [
      "0     Grapes\n",
      "1     Apples\n",
      "2    Oranges\n",
      "3    Bananas\n",
      "dtype: object\n"
     ]
    }
   ],
   "source": [
    "# Creating a data series from a list\n",
    "list1 = ['Grapes', 'Apples', 'Oranges', 'Bananas']\n",
    "s1 = pd.Series(list1)\n",
    "print(s1)"
   ]
  },
  {
   "cell_type": "markdown",
   "metadata": {
    "collapsed": true
   },
   "source": [
    "Notice that rows are given numbers these are known as indices. Indices \n",
    "starts from 0. "
   ]
  },
  {
   "cell_type": "markdown",
   "metadata": {
    "collapsed": true
   },
   "source": [
    "We can provide custom index as well. "
   ]
  },
  {
   "cell_type": "code",
   "execution_count": 19,
   "metadata": {
    "collapsed": false
   },
   "outputs": [
    {
     "name": "stdout",
     "output_type": "stream",
     "text": [
      "GR     Grapes\n",
      "AP     Apples\n",
      "OR    Oranges\n",
      "BA    Bananas\n",
      "dtype: object\n"
     ]
    }
   ],
   "source": [
    "# definifing list2 with indices\n",
    "list2 = ['GR', 'AP', 'OR', 'BA']\n",
    "\n",
    "# In series1 we say index=list2\n",
    "series1 = pd.Series(list1, index=list2)\n",
    "print(series1)"
   ]
  },
  {
   "cell_type": "markdown",
   "metadata": {},
   "source": [
    "Now let us define a dictionary and convert it into a series."
   ]
  },
  {
   "cell_type": "code",
   "execution_count": 20,
   "metadata": {
    "collapsed": false
   },
   "outputs": [
    {
     "name": "stdout",
     "output_type": "stream",
     "text": [
      "G    Google\n",
      "U      Uber\n",
      "Z     Zynga\n",
      "dtype: object\n"
     ]
    }
   ],
   "source": [
    "d1 = {'Z': 'Zynga', 'U': 'Uber', 'G':'Google'}\n",
    "ds1 = pd.Series(d1)\n",
    "print(ds1)"
   ]
  },
  {
   "cell_type": "markdown",
   "metadata": {
    "collapsed": true
   },
   "source": [
    "Let's create a series with company name as index and its current stock price as \n",
    "value. Notice that in the code below, we have a dictionary with two keys \n",
    "having None as their values."
   ]
  },
  {
   "cell_type": "code",
   "execution_count": 24,
   "metadata": {
    "collapsed": false
   },
   "outputs": [
    {
     "name": "stdout",
     "output_type": "stream",
     "text": [
      "Alphabet     856\n",
      "Amazon       852\n",
      "Ford          12\n",
      "GE            29\n",
      "Marriot     None\n",
      "Nvidia      None\n",
      "Toyota       112\n",
      "amazon      1000\n",
      "Name: Price, dtype: object\n"
     ]
    }
   ],
   "source": [
    "d2={'Amazon': 852, 'Nvidia': None, 'Alphabet': 856, 'Toyota': '112', \\\n",
    "    'GE': 29, 'Ford': 12, 'Marriot': None, 'amazon': 1000}\n",
    "companies = pd.Series(d2, name='Price')\n",
    "print(companies)"
   ]
  },
  {
   "cell_type": "markdown",
   "metadata": {},
   "source": [
    "Using the index we can get the corresponding stock prices. Below we are \n",
    "retrieving the stock price of Ford."
   ]
  },
  {
   "cell_type": "code",
   "execution_count": 22,
   "metadata": {
    "collapsed": false
   },
   "outputs": [
    {
     "name": "stdout",
     "output_type": "stream",
     "text": [
      "12\n"
     ]
    }
   ],
   "source": [
    "print(companies['Ford'])"
   ]
  },
  {
   "cell_type": "markdown",
   "metadata": {
    "collapsed": false
   },
   "source": [
    "We can also get stock prices for more companies. We have to supply the indices \n",
    "that we are interested in as a list."
   ]
  },
  {
   "cell_type": "code",
   "execution_count": 23,
   "metadata": {
    "collapsed": false
   },
   "outputs": [
    {
     "name": "stdout",
     "output_type": "stream",
     "text": [
      "Ford    12\n",
      "GE      29\n",
      "Name: Price, dtype: object\n"
     ]
    }
   ],
   "source": [
    "print(companies[['Ford', 'GE']])"
   ]
  },
  {
   "cell_type": "markdown",
   "metadata": {},
   "source": [
    "Membership can be checked using the 'in' keyword."
   ]
  },
  {
   "cell_type": "code",
   "execution_count": 25,
   "metadata": {
    "collapsed": false
   },
   "outputs": [
    {
     "name": "stdout",
     "output_type": "stream",
     "text": [
      "True\n",
      "False\n"
     ]
    }
   ],
   "source": [
    "print('Amazon' in companies)\n",
    "print('Apple' in companies)"
   ]
  },
  {
   "cell_type": "markdown",
   "metadata": {},
   "source": [
    "If we want to know companies for which we don't have stock price, then we have \n",
    "to use the is.null(). True will be returned for the indices that don't have a \n",
    "value and False for the indices that have \n",
    "a value."
   ]
  },
  {
   "cell_type": "code",
   "execution_count": 26,
   "metadata": {
    "collapsed": false
   },
   "outputs": [
    {
     "name": "stdout",
     "output_type": "stream",
     "text": [
      "Alphabet    False\n",
      "Amazon      False\n",
      "Ford        False\n",
      "GE          False\n",
      "Marriot      True\n",
      "Nvidia       True\n",
      "Toyota      False\n",
      "amazon      False\n",
      "Name: Price, dtype: bool\n"
     ]
    }
   ],
   "source": [
    "print(companies.isnull())"
   ]
  },
  {
   "cell_type": "markdown",
   "metadata": {
    "collapsed": true
   },
   "source": [
    "A dataframe is a tabular data structure that consists of rows and columns. \n",
    "Dataframe is nothing but a collection of series."
   ]
  },
  {
   "cell_type": "markdown",
   "metadata": {
    "collapsed": true
   },
   "source": [
    "Let's create a dataframe using a dicitonary as shown below."
   ]
  },
  {
   "cell_type": "code",
   "execution_count": 27,
   "metadata": {
    "collapsed": false
   },
   "outputs": [
    {
     "name": "stdout",
     "output_type": "stream",
     "text": [
      "      Name  Founded   Price\n",
      "0   Amazon     1994  852.00\n",
      "1       GE     1923  111.20\n",
      "2   Toyota     1937  112.00\n",
      "3  Twitter     2006   15.20\n",
      "4     Ford     1903   12.50\n",
      "5  Marriot     1927   88.31\n"
     ]
    }
   ],
   "source": [
    "c1= {'Name': ['Amazon', 'GE', 'Toyota', 'Twitter', 'Ford', 'Marriot'],\n",
    "            'Founded': [1994, 1923, 1937, 2006, 1903, 1927], \n",
    "             'Price': [852, 111.2, 112, 15.2, 12.5, 88.31]}\n",
    "\n",
    "companies = pd.DataFrame(c1, columns=['Name', 'Founded', 'Price'])\n",
    "print(companies)"
   ]
  },
  {
   "cell_type": "code",
   "execution_count": 28,
   "metadata": {
    "collapsed": false
   },
   "outputs": [
    {
     "name": "stdout",
     "output_type": "stream",
     "text": [
      "   Founded     Name   Price\n",
      "0     1994   Amazon  852.00\n",
      "1     1923       GE  111.20\n",
      "2     1937   Toyota  112.00\n",
      "3     2006  Twitter   15.20\n",
      "4     1903     Ford   12.50\n",
      "5     1927  Marriot   88.31\n"
     ]
    }
   ],
   "source": [
    "c1= {'Name': ['Amazon', 'GE', 'Toyota', 'Twitter', 'Ford', 'Marriot'],\n",
    "            'Founded': [1994, 1923, 1937, 2006, 1903, 1927], \n",
    "             'Price': [852, 111.2, 112, 15.2, 12.5, 88.31]}\n",
    "\n",
    "companies = pd.DataFrame(c1)\n",
    "print(companies)"
   ]
  },
  {
   "cell_type": "markdown",
   "metadata": {
    "collapsed": true
   },
   "source": [
    "## Reading files\n",
    "\n",
    "Reading a csv file. "
   ]
  },
  {
   "cell_type": "code",
   "execution_count": 29,
   "metadata": {
    "collapsed": false
   },
   "outputs": [
    {
     "name": "stdout",
     "output_type": "stream",
     "text": [
      "   color      director_name  num_critic_for_reviews  duration  \\\n",
      "0  Color      James Cameron                   723.0     178.0   \n",
      "1  Color     Gore Verbinski                   302.0     169.0   \n",
      "2  Color         Sam Mendes                   602.0     148.0   \n",
      "3  Color  Christopher Nolan                   813.0     164.0   \n",
      "4    NaN        Doug Walker                     NaN       NaN   \n",
      "\n",
      "   director_facebook_likes  actor_3_facebook_likes      actor_2_name  \\\n",
      "0                      0.0                   855.0  Joel David Moore   \n",
      "1                    563.0                  1000.0     Orlando Bloom   \n",
      "2                      0.0                   161.0      Rory Kinnear   \n",
      "3                  22000.0                 23000.0    Christian Bale   \n",
      "4                    131.0                     NaN        Rob Walker   \n",
      "\n",
      "   actor_1_facebook_likes        gross                           genres  \\\n",
      "0                  1000.0  760505847.0  Action|Adventure|Fantasy|Sci-Fi   \n",
      "1                 40000.0  309404152.0         Action|Adventure|Fantasy   \n",
      "2                 11000.0  200074175.0        Action|Adventure|Thriller   \n",
      "3                 27000.0  448130642.0                  Action|Thriller   \n",
      "4                   131.0          NaN                      Documentary   \n",
      "\n",
      "          ...          num_user_for_reviews language  country  content_rating  \\\n",
      "0         ...                        3054.0  English      USA           PG-13   \n",
      "1         ...                        1238.0  English      USA           PG-13   \n",
      "2         ...                         994.0  English       UK           PG-13   \n",
      "3         ...                        2701.0  English      USA           PG-13   \n",
      "4         ...                           NaN      NaN      NaN             NaN   \n",
      "\n",
      "        budget  title_year actor_2_facebook_likes imdb_score  aspect_ratio  \\\n",
      "0  237000000.0      2009.0                  936.0        7.9          1.78   \n",
      "1  300000000.0      2007.0                 5000.0        7.1          2.35   \n",
      "2  245000000.0      2015.0                  393.0        6.8          2.35   \n",
      "3  250000000.0      2012.0                23000.0        8.5          2.35   \n",
      "4          NaN         NaN                   12.0        7.1           NaN   \n",
      "\n",
      "  movie_facebook_likes  \n",
      "0                33000  \n",
      "1                    0  \n",
      "2                85000  \n",
      "3               164000  \n",
      "4                    0  \n",
      "\n",
      "[5 rows x 28 columns]\n"
     ]
    }
   ],
   "source": [
    "movies = pd.read_csv('alldata\\imdb_movie\\movie_metadata.csv')\n",
    "print(movies.head())"
   ]
  },
  {
   "cell_type": "code",
   "execution_count": 30,
   "metadata": {
    "collapsed": false
   },
   "outputs": [
    {
     "name": "stdout",
     "output_type": "stream",
     "text": [
      "Index(['color', 'director_name', 'num_critic_for_reviews', 'duration',\n",
      "       'director_facebook_likes', 'actor_3_facebook_likes', 'actor_2_name',\n",
      "       'actor_1_facebook_likes', 'gross', 'genres', 'actor_1_name',\n",
      "       'movie_title', 'num_voted_users', 'cast_total_facebook_likes',\n",
      "       'actor_3_name', 'facenumber_in_poster', 'plot_keywords',\n",
      "       'movie_imdb_link', 'num_user_for_reviews', 'language', 'country',\n",
      "       'content_rating', 'budget', 'title_year', 'actor_2_facebook_likes',\n",
      "       'imdb_score', 'aspect_ratio', 'movie_facebook_likes'],\n",
      "      dtype='object')\n"
     ]
    }
   ],
   "source": [
    "print(movies.columns)"
   ]
  },
  {
   "cell_type": "code",
   "execution_count": 31,
   "metadata": {
    "collapsed": false
   },
   "outputs": [
    {
     "name": "stdout",
     "output_type": "stream",
     "text": [
      "color                         object\n",
      "director_name                 object\n",
      "num_critic_for_reviews       float64\n",
      "duration                     float64\n",
      "director_facebook_likes      float64\n",
      "actor_3_facebook_likes       float64\n",
      "actor_2_name                  object\n",
      "actor_1_facebook_likes       float64\n",
      "gross                        float64\n",
      "genres                        object\n",
      "actor_1_name                  object\n",
      "movie_title                   object\n",
      "num_voted_users                int64\n",
      "cast_total_facebook_likes      int64\n",
      "actor_3_name                  object\n",
      "facenumber_in_poster         float64\n",
      "plot_keywords                 object\n",
      "movie_imdb_link               object\n",
      "num_user_for_reviews         float64\n",
      "language                      object\n",
      "country                       object\n",
      "content_rating                object\n",
      "budget                       float64\n",
      "title_year                   float64\n",
      "actor_2_facebook_likes       float64\n",
      "imdb_score                   float64\n",
      "aspect_ratio                 float64\n",
      "movie_facebook_likes           int64\n",
      "dtype: object\n"
     ]
    }
   ],
   "source": [
    "print(movies.dtypes)"
   ]
  },
  {
   "cell_type": "code",
   "execution_count": 32,
   "metadata": {
    "collapsed": false
   },
   "outputs": [
    {
     "name": "stdout",
     "output_type": "stream",
     "text": [
      "(5043, 28)\n"
     ]
    }
   ],
   "source": [
    "print(movies.shape)"
   ]
  },
  {
   "cell_type": "code",
   "execution_count": 33,
   "metadata": {
    "collapsed": false
   },
   "outputs": [
    {
     "name": "stdout",
     "output_type": "stream",
     "text": [
      "5043\n"
     ]
    }
   ],
   "source": [
    "# for number of rows use shape[0]\n",
    "print(movies.shape[0])"
   ]
  },
  {
   "cell_type": "code",
   "execution_count": 34,
   "metadata": {
    "collapsed": false
   },
   "outputs": [
    {
     "name": "stdout",
     "output_type": "stream",
     "text": [
      "28\n"
     ]
    }
   ],
   "source": [
    "# for number of columns use shape[1]\n",
    "print(movies.shape[1])"
   ]
  },
  {
   "cell_type": "markdown",
   "metadata": {},
   "source": [
    "We can create a series from the movies dataframe. "
   ]
  },
  {
   "cell_type": "code",
   "execution_count": 35,
   "metadata": {
    "collapsed": false
   },
   "outputs": [
    {
     "name": "stdout",
     "output_type": "stream",
     "text": [
      "0        James Cameron\n",
      "1       Gore Verbinski\n",
      "2           Sam Mendes\n",
      "3    Christopher Nolan\n",
      "4          Doug Walker\n",
      "Name: director_name, dtype: object\n"
     ]
    }
   ],
   "source": [
    "movies_dir = movies['director_name']\n",
    "print(movies_dir.head())"
   ]
  },
  {
   "cell_type": "markdown",
   "metadata": {},
   "source": [
    "Let's create a new dataframe with columns: \n",
    "movie_title, duration, budget, gross, genres, director_name."
   ]
  },
  {
   "cell_type": "code",
   "execution_count": 36,
   "metadata": {
    "collapsed": false
   },
   "outputs": [
    {
     "name": "stdout",
     "output_type": "stream",
     "text": [
      "                                         movie_title  duration       budget  \\\n",
      "0                                            Avatar      178.0  237000000.0   \n",
      "1          Pirates of the Caribbean: At World's End      169.0  300000000.0   \n",
      "2                                           Spectre      148.0  245000000.0   \n",
      "3                             The Dark Knight Rises      164.0  250000000.0   \n",
      "4  Star Wars: Episode VII - The Force Awakens    ...       NaN          NaN   \n",
      "\n",
      "         gross                           genres      director_name  \n",
      "0  760505847.0  Action|Adventure|Fantasy|Sci-Fi      James Cameron  \n",
      "1  309404152.0         Action|Adventure|Fantasy     Gore Verbinski  \n",
      "2  200074175.0        Action|Adventure|Thriller         Sam Mendes  \n",
      "3  448130642.0                  Action|Thriller  Christopher Nolan  \n",
      "4          NaN                      Documentary        Doug Walker  \n"
     ]
    }
   ],
   "source": [
    "newmovies = movies[['movie_title', 'duration', 'budget', 'gross', 'genres', 'director_name']]\n",
    "print(newmovies.head())"
   ]
  },
  {
   "cell_type": "code",
   "execution_count": 37,
   "metadata": {
    "collapsed": false
   },
   "outputs": [
    {
     "name": "stdout",
     "output_type": "stream",
     "text": [
      "(5043, 6)\n"
     ]
    }
   ],
   "source": [
    "print(newmovies.shape)"
   ]
  },
  {
   "cell_type": "markdown",
   "metadata": {},
   "source": [
    "We can use sort_values() to sort a dataframe."
   ]
  },
  {
   "cell_type": "code",
   "execution_count": 38,
   "metadata": {
    "collapsed": false
   },
   "outputs": [
    {
     "name": "stdout",
     "output_type": "stream",
     "text": [
      "               movie_title  duration      budget       gross  \\\n",
      "4605  The Helix... Loaded       97.0   1000000.0         NaN   \n",
      "4314               Circle       87.0         NaN         NaN   \n",
      "3497              Get Low      100.0   7500000.0   9176553.0   \n",
      "2182           Date Movie       85.0  20000000.0  48546578.0   \n",
      "2909          The Funeral       99.0  12500000.0   1227324.0   \n",
      "\n",
      "                                      genres    director_name  \n",
      "4605  Action|Adventure|Comedy|Fantasy|Sci-Fi    A. Raven Cruz  \n",
      "4314    Drama|Horror|Mystery|Sci-Fi|Thriller       Aaron Hann  \n",
      "3497                           Drama|Mystery  Aaron Schneider  \n",
      "2182                          Comedy|Romance    Aaron Seltzer  \n",
      "2909                             Crime|Drama     Abel Ferrara  \n"
     ]
    }
   ],
   "source": [
    "print(newmovies.sort_values('director_name').head())"
   ]
  },
  {
   "cell_type": "markdown",
   "metadata": {},
   "source": [
    "Notice that not all values in our data frame are finite. So, now we want to drop \n",
    "rows that have NaN in any column. "
   ]
  },
  {
   "cell_type": "markdown",
   "metadata": {},
   "source": [
    "## Data Transformation"
   ]
  },
  {
   "cell_type": "code",
   "execution_count": 39,
   "metadata": {
    "collapsed": false
   },
   "outputs": [
    {
     "name": "stdout",
     "output_type": "stream",
     "text": [
      "                                 movie_title  duration       budget  \\\n",
      "0                                    Avatar      178.0  237000000.0   \n",
      "1  Pirates of the Caribbean: At World's End      169.0  300000000.0   \n",
      "2                                   Spectre      148.0  245000000.0   \n",
      "3                     The Dark Knight Rises      164.0  250000000.0   \n",
      "5                               John Carter      132.0  263700000.0   \n",
      "\n",
      "         gross                           genres      director_name  \n",
      "0  760505847.0  Action|Adventure|Fantasy|Sci-Fi      James Cameron  \n",
      "1  309404152.0         Action|Adventure|Fantasy     Gore Verbinski  \n",
      "2  200074175.0        Action|Adventure|Thriller         Sam Mendes  \n",
      "3  448130642.0                  Action|Thriller  Christopher Nolan  \n",
      "5   73058679.0          Action|Adventure|Sci-Fi     Andrew Stanton  \n",
      "(3890, 6)\n"
     ]
    }
   ],
   "source": [
    "newmovies1 = newmovies.copy(deep=True)\n",
    "newmovies1.dropna(how='any', inplace=True)\n",
    "print(newmovies1.head())\n",
    "print(newmovies1.shape)"
   ]
  },
  {
   "cell_type": "code",
   "execution_count": 40,
   "metadata": {
    "collapsed": true
   },
   "outputs": [],
   "source": [
    "newmovies2 = newmovies.copy(deep=True)\n",
    "newmovies2.dropna(subset=['duration','budget'], how='any', inplace=True)"
   ]
  },
  {
   "cell_type": "code",
   "execution_count": 41,
   "metadata": {
    "collapsed": false
   },
   "outputs": [
    {
     "name": "stdout",
     "output_type": "stream",
     "text": [
      "                                 movie_title  duration       budget  \\\n",
      "0                                    Avatar      178.0  237000000.0   \n",
      "1  Pirates of the Caribbean: At World's End      169.0  300000000.0   \n",
      "2                                   Spectre      148.0  245000000.0   \n",
      "3                     The Dark Knight Rises      164.0  250000000.0   \n",
      "5                               John Carter      132.0  263700000.0   \n",
      "\n",
      "         gross                           genres      director_name  \n",
      "0  760505847.0  Action|Adventure|Fantasy|Sci-Fi      James Cameron  \n",
      "1  309404152.0         Action|Adventure|Fantasy     Gore Verbinski  \n",
      "2  200074175.0        Action|Adventure|Thriller         Sam Mendes  \n",
      "3  448130642.0                  Action|Thriller  Christopher Nolan  \n",
      "5   73058679.0          Action|Adventure|Sci-Fi     Andrew Stanton  \n"
     ]
    }
   ],
   "source": [
    "print(newmovies2.head())"
   ]
  },
  {
   "cell_type": "code",
   "execution_count": 42,
   "metadata": {
    "collapsed": false
   },
   "outputs": [
    {
     "name": "stdout",
     "output_type": "stream",
     "text": [
      "(4546, 6)\n"
     ]
    }
   ],
   "source": [
    "print(newmovies2.shape)"
   ]
  },
  {
   "cell_type": "markdown",
   "metadata": {},
   "source": [
    "## Statistical Analysis"
   ]
  },
  {
   "cell_type": "code",
   "execution_count": 43,
   "metadata": {
    "collapsed": false
   },
   "outputs": [
    {
     "name": "stdout",
     "output_type": "stream",
     "text": [
      "          duration        budget         gross\n",
      "count  3890.000000  3.890000e+03  3.890000e+03\n",
      "mean    109.896401  4.520391e+07  5.106809e+07\n",
      "std      22.706775  2.224177e+08  6.980668e+07\n",
      "min      34.000000  2.180000e+02  1.620000e+02\n",
      "25%      95.000000  1.000000e+07  6.844452e+06\n",
      "50%     106.000000  2.400000e+07  2.799697e+07\n",
      "75%     120.000000  5.000000e+07  6.540649e+07\n",
      "max     330.000000  1.221550e+10  7.605058e+08\n"
     ]
    }
   ],
   "source": [
    "print(newmovies1.describe())"
   ]
  },
  {
   "cell_type": "markdown",
   "metadata": {},
   "source": [
    "We can find how many values in each column of newmovies has NAN using isnull()."
   ]
  },
  {
   "cell_type": "code",
   "execution_count": 44,
   "metadata": {
    "collapsed": false
   },
   "outputs": [
    {
     "name": "stdout",
     "output_type": "stream",
     "text": [
      "movie_title        0\n",
      "duration          15\n",
      "budget           492\n",
      "gross            884\n",
      "genres             0\n",
      "director_name    104\n",
      "dtype: int64\n"
     ]
    }
   ],
   "source": [
    "print(newmovies.isnull().sum())"
   ]
  },
  {
   "cell_type": "code",
   "execution_count": 45,
   "metadata": {
    "collapsed": false
   },
   "outputs": [
    {
     "name": "stdout",
     "output_type": "stream",
     "text": [
      "movie_title        0\n",
      "duration           0\n",
      "budget           492\n",
      "gross            884\n",
      "genres             0\n",
      "director_name    104\n",
      "dtype: int64\n"
     ]
    }
   ],
   "source": [
    "newmovies3 = newmovies.copy(deep=True)\n",
    "newmovies3['duration'].fillna(value=90, inplace=True)\n",
    "print(newmovies3.isnull().sum())"
   ]
  },
  {
   "cell_type": "code",
   "execution_count": 46,
   "metadata": {
    "collapsed": true
   },
   "outputs": [],
   "source": [
    "url= \"https://raw.githubusercontent.com/cs109/2014_data/master/countries.csv\"\n",
    "countries=pd.read_csv(url)"
   ]
  },
  {
   "cell_type": "code",
   "execution_count": 47,
   "metadata": {
    "collapsed": false
   },
   "outputs": [
    {
     "name": "stdout",
     "output_type": "stream",
     "text": [
      "    Country  Region\n",
      "0   Algeria  AFRICA\n",
      "1    Angola  AFRICA\n",
      "2     Benin  AFRICA\n",
      "3  Botswana  AFRICA\n",
      "4   Burkina  AFRICA\n",
      "194\n"
     ]
    }
   ],
   "source": [
    "print(countries.head())\n",
    "print(countries.shape[0])"
   ]
  },
  {
   "cell_type": "code",
   "execution_count": 48,
   "metadata": {
    "collapsed": false
   },
   "outputs": [
    {
     "name": "stdout",
     "output_type": "stream",
     "text": [
      "       Country  Region\n",
      "count      194     194\n",
      "unique     194       6\n",
      "top       Iraq  AFRICA\n",
      "freq         1      54\n"
     ]
    }
   ],
   "source": [
    "print(countries.describe())"
   ]
  },
  {
   "cell_type": "markdown",
   "metadata": {},
   "source": [
    "## Data Visualization "
   ]
  },
  {
   "cell_type": "markdown",
   "metadata": {},
   "source": [
    "The below line will make sure that the image created by the mathplot will be \n",
    "shown inside Jupyter notebook."
   ]
  },
  {
   "cell_type": "code",
   "execution_count": 49,
   "metadata": {
    "collapsed": true
   },
   "outputs": [],
   "source": [
    "%matplotlib inline"
   ]
  },
  {
   "cell_type": "markdown",
   "metadata": {},
   "source": [
    "Let us plot a histogram for duration time."
   ]
  },
  {
   "cell_type": "code",
   "execution_count": 50,
   "metadata": {
    "collapsed": false
   },
   "outputs": [
    {
     "data": {
      "text/plain": [
       "<matplotlib.axes._subplots.AxesSubplot at 0x1fac2a3d160>"
      ]
     },
     "execution_count": 50,
     "metadata": {},
     "output_type": "execute_result"
    },
    {
     "data": {
      "image/png": "[encoded data removed]",
      "text/plain": [
       "<matplotlib.figure.Figure at 0x1fac2885c18>"
      ]
     },
     "metadata": {},
     "output_type": "display_data"
    }
   ],
   "source": [
    "newmovies3.duration.plot(kind='hist')"
   ]
  },
  {
   "cell_type": "markdown",
   "metadata": {},
   "source": [
    "Let's consider another dataset to understand different plotting choices. "
   ]
  },
  {
   "cell_type": "code",
   "execution_count": 53,
   "metadata": {
    "collapsed": false
   },
   "outputs": [
    {
     "name": "stdout",
     "output_type": "stream",
     "text": [
      "  Name  sales_budget  marketing_budget  Income\n",
      "0  PLP           123                90     400\n",
      "1   MX           340                85     700\n",
      "2   YP            45                55     210\n",
      "3   UP            27                60     200\n",
      "4   QT            80               100     225\n"
     ]
    }
   ],
   "source": [
    "company = pd.read_csv('company.csv')\n",
    "#company = company.\n",
    "print(company.head())"
   ]
  },
  {
   "cell_type": "code",
   "execution_count": 56,
   "metadata": {
    "collapsed": false
   },
   "outputs": [
    {
     "name": "stdout",
     "output_type": "stream",
     "text": [
      "      sales_budget  marketing_budget  Income\n",
      "Name                                        \n",
      "PLP            123                90     400\n",
      "MX             340                85     700\n",
      "YP              45                55     210\n",
      "UP              27                60     200\n",
      "QT              80               100     225\n"
     ]
    }
   ],
   "source": [
    "company = pd.read_csv('company.csv')\n",
    "company = company.set_index('Name')\n",
    "print(company.head())"
   ]
  },
  {
   "cell_type": "markdown",
   "metadata": {},
   "source": [
    "We plot a scatter plot between the columns sales_budget and marketing_budget."
   ]
  },
  {
   "cell_type": "code",
   "execution_count": 52,
   "metadata": {
    "collapsed": false
   },
   "outputs": [
    {
     "data": {
      "text/plain": [
       "<matplotlib.axes._subplots.AxesSubplot at 0x1fac2b6f208>"
      ]
     },
     "execution_count": 52,
     "metadata": {},
     "output_type": "execute_result"
    },
    {
     "data": {
      "image/png": "[encoded data removed]",
      "text/plain": [
       "<matplotlib.figure.Figure at 0x1fac2b847b8>"
      ]
     },
     "metadata": {},
     "output_type": "display_data"
    }
   ],
   "source": [
    "company.plot(kind='scatter', x='sales_budget', y='marketing_budget')"
   ]
  },
  {
   "cell_type": "markdown",
   "metadata": {},
   "source": [
    "Creating a series with column sales_budget."
   ]
  },
  {
   "cell_type": "code",
   "execution_count": 57,
   "metadata": {
    "collapsed": false
   },
   "outputs": [
    {
     "name": "stdout",
     "output_type": "stream",
     "text": [
      "Name\n",
      "PLP    123\n",
      "MX     340\n",
      "YP      45\n",
      "UP      27\n",
      "QT      80\n",
      "AD      95\n",
      "XC      26\n",
      "MA      72\n",
      "GP      66\n",
      "LA      54\n",
      "WT      43\n",
      "Name: sales_budget, dtype: int64\n"
     ]
    }
   ],
   "source": [
    "sales = company['sales_budget']\n",
    "print(sales)"
   ]
  },
  {
   "cell_type": "code",
   "execution_count": 58,
   "metadata": {
    "collapsed": false
   },
   "outputs": [
    {
     "data": {
      "text/plain": [
       "<matplotlib.text.Text at 0x1fac2b55438>"
      ]
     },
     "execution_count": 58,
     "metadata": {},
     "output_type": "execute_result"
    },
    {
     "data": {
      "image/png": "[encoded data removed]",
      "text/plain": [
       "<matplotlib.figure.Figure at 0x1fac2c72d68>"
      ]
     },
     "metadata": {},
     "output_type": "display_data"
    }
   ],
   "source": [
    "sales_plot = sales.plot(kind='bar')\n",
    "sales_plot.set_xlabel(\"Company Name\")\n",
    "sales_plot.set_ylabel(\"Sales\")"
   ]
  },
  {
   "cell_type": "code",
   "execution_count": 61,
   "metadata": {
    "collapsed": false
   },
   "outputs": [
    {
     "data": {
      "image/png": "[encoded data removed]",
      "text/plain": [
       "<matplotlib.figure.Figure at 0x1fac2d7aef0>"
      ]
     },
     "metadata": {},
     "output_type": "display_data"
    }
   ],
   "source": [
    "sales_plot = sales.plot(kind='bar', x=\"Company Name\", y=\"Sales\")"
   ]
  },
  {
   "cell_type": "code",
   "execution_count": 59,
   "metadata": {
    "collapsed": true
   },
   "outputs": [],
   "source": [
    "# Creating another series from column income.\n",
    "income = company['Income']"
   ]
  },
  {
   "cell_type": "code",
   "execution_count": 60,
   "metadata": {
    "collapsed": false
   },
   "outputs": [
    {
     "data": {
      "image/png": "[encoded data removed]",
      "text/plain": [
       "<matplotlib.figure.Figure at 0x1fac2cef550>"
      ]
     },
     "metadata": {},
     "output_type": "display_data"
    }
   ],
   "source": [
    "# Plotting income as a line plot.\n",
    "income_plot = income.plot(kind='line')"
   ]
  },
  {
   "cell_type": "code",
   "execution_count": null,
   "metadata": {
    "collapsed": false
   },
   "outputs": [],
   "source": []
  },
  {
   "cell_type": "code",
   "execution_count": null,
   "metadata": {
    "collapsed": true
   },
   "outputs": [],
   "source": []
  }
 ],
 "metadata": {
  "kernelspec": {
   "display_name": "Python 3",
   "language": "python",
   "name": "python3"
  },
  "language_info": {
   "codemirror_mode": {
    "name": "ipython",
    "version": 3
   },
   "file_extension": ".py",
   "mimetype": "text/x-python",
   "name": "python",
   "nbconvert_exporter": "python",
   "pygments_lexer": "ipython3",
   "version": "3.6.0"
  }
 },
 "nbformat": 4,
 "nbformat_minor": 2
}
